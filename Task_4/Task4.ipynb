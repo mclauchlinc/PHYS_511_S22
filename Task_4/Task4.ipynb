{
 "cells": [
  {
   "cell_type": "code",
   "execution_count": null,
   "metadata": {},
   "outputs": [],
   "source": [
    "import numpy as np\n",
    "import matplotlib.pyplot as plt\n",
    "import pandas as pd\n",
    "from scipy.special import factorial\n",
    "from scipy.optimize import curve_fit\n",
    "\n",
    "def poisson(k, a, lamb):\n",
    "    \"\"\"poisson pdf, parameter lamb is the fit parameter\"\"\"\n",
    "    return a*(lamb**k/factorial(k)) * np.exp(-lamb)\n",
    "\n",
    "# TODO:\n",
    "# Download all the text data files from (http://boson.physics.sc.edu/~nick/root_data.html)\n",
    "# Make a histogram with all data from that file\n",
    "# Fit with a poison function\n",
    "# Extract mu\n",
    "# Plot mu versus Delta t from the different runs to calculate the detected event rate"
   ]
  },
  {
   "cell_type": "code",
   "execution_count": null,
   "metadata": {},
   "outputs": [],
   "source": [
    "# The files are labeled with respect to the measurement window and experiment length\n",
    "# In that order\n",
    "# 0.5ms_10s.txt measured the number of decays in 0.5ms windows for a total of 10 seconds\n",
    "# ∆t = 0.5ms\n",
    "# T = 10s\n",
    "data1 = pd.read_csv(\"0.5ms_10s.txt\", names=[\"x\"])\n",
    "data1.head()"
   ]
  },
  {
   "cell_type": "code",
   "execution_count": null,
   "metadata": {},
   "outputs": [],
   "source": [
    "def no_zero_x(xvals, yvals):\n",
    "    new_x = []\n",
    "    for i in range(len(yvals)):\n",
    "        if yvals[i] > 0.:\n",
    "            new_x.append(xvals[i])\n",
    "    return new_x\n",
    "\n",
    "def no_zero_y(yvals):\n",
    "    new_y = []\n",
    "    for i in range(len(yvals)):\n",
    "        if yvals[i] > 0.:\n",
    "            new_y.append(yvals[i])\n",
    "    return new_y"
   ]
  },
  {
   "cell_type": "code",
   "execution_count": null,
   "metadata": {},
   "outputs": [],
   "source": [
    "# Turns the data into x and y values\n",
    "#ys=[[] for i in range(8)]\n",
    "#xs=[[] for i in range(8)]\n",
    "ys[0], xs[0] = np.histogram(data1.x, bins=8)\n",
    "\n",
    "# xs gives both the right and left edge of the bin\n",
    "# We average over the values to get the bin centers\n",
    "for i in range(8):\n",
    "    xs[i] = (xs[i][1:] + xs[i][:-1]) / 2\n",
    "    xs[i] = no_zero_x(xs[i],ys[i])\n",
    "    ys[i] = no_zero_y(ys[i])\n",
    "\n",
    "# Plot the histogram\n",
    "\n",
    "# fit with curve_fit using the poisson_fit function provided\n",
    "# http://scipy-lectures.org/intro/scipy/auto_examples/plot_curve_fit.html\n",
    "\n",
    "# You may need to set an initial guess for curve_fit, p0.\n",
    "# I would suggest using the mean of the data as an initial guess p0=[np.mean(data.x)]\n",
    "\n",
    "# Plot the fit line\n",
    "# Put the value of mu in the legend\n",
    "# For a bonus also plot a vertical line with mu\n"
   ]
  },
  {
   "cell_type": "code",
   "execution_count": null,
   "metadata": {},
   "outputs": [],
   "source": []
  }
 ],
 "metadata": {
  "kernelspec": {
   "display_name": "Python 3",
   "language": "python",
   "name": "python3"
  },
  "language_info": {
   "codemirror_mode": {
    "name": "ipython",
    "version": 3
   },
   "file_extension": ".py",
   "mimetype": "text/x-python",
   "name": "python",
   "nbconvert_exporter": "python",
   "pygments_lexer": "ipython3",
   "version": "3.8.6"
  }
 },
 "nbformat": 4,
 "nbformat_minor": 4
}
