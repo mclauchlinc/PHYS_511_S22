{
 "cells": [
  {
   "cell_type": "code",
   "execution_count": null,
   "metadata": {},
   "outputs": [],
   "source": [
    "import numpy as np\n",
    "import matplotlib.pyplot as plt\n",
    "import scipy.optimize as op"
   ]
  },
  {
   "cell_type": "code",
   "execution_count": null,
   "metadata": {},
   "outputs": [],
   "source": [
    "# Reading the data is done for you\n",
    "def read_file(file_name = 'distribution.dat'):\n",
    "    # Read in data file distribution.dat\n",
    "    with open(file_name) as distribution:\n",
    "        #Stores the lines as an array of strings with each line an element\n",
    "        data = distribution.readlines()\n",
    "    return data"
   ]
  },
  {
   "cell_type": "code",
   "execution_count": null,
   "metadata": {},
   "outputs": [],
   "source": [
    "# Reading in the data\n",
    "data = read_file('distribution.dat')\n",
    "data2 = read_file('distribution2.dat')\n",
    "\n",
    "## convert the data which is strings to floats\n",
    "input_data = [np.float(d) for d in data]\n",
    "input_data2 = [np.float(d) for d in data2]\n",
    "## This is a python shorthand for filling an array with a for loop\n",
    "## Equivalent to:\n",
    "#\n",
    "# input_data = []\n",
    "# for d in data:\n",
    "#     input_data.append(np.float(d))"
   ]
  },
  {
   "cell_type": "code",
   "execution_count": null,
   "metadata": {},
   "outputs": [],
   "source": [
    "def data_limits(data,low=-1.0,high=0.75):\n",
    "    new_data=[]\n",
    "    for i in range(len(data)):\n",
    "        if data[i]>low and data[i]<high:\n",
    "            new_data.append(data[i])\n",
    "    return new_data"
   ]
  },
  {
   "cell_type": "code",
   "execution_count": null,
   "metadata": {},
   "outputs": [],
   "source": [
    "# Returns the bin number for a given data point given number of bins, a low, and a high for the x values\n",
    "def bin_n(value,bin_num=100,low=0.0,high=2.0):\n",
    "    num=-1\n",
    "    for i in range(bin_num):\n",
    "        if (value >= low + np.float(i)*(high-low)/bin_num) and (value < low + (np.float(i)+1)*(high-low)/bin_num):\n",
    "            num=i\n",
    "    return num\n",
    "# Returns y bins given a number of bins, a high, and a low value for the x bins\n",
    "def ybins(data,bin_num=100,low=0.0,high=2.0):\n",
    "    out = np.zeros(bin_num)\n",
    "    for i in range(len(data)):\n",
    "        out[bin_n(data[i],bin_num,low,high)]+=1\n",
    "    return out\n",
    "# Returns x bins given a number of bins, a high, and a low\n",
    "def xbins(bin_num=100,low=0.0,high=2.0):\n",
    "    return [low + (np.float(i)+.5)*(high-low)/bin_num for i in range(bin_num)]\n",
    "# outputs a gaussian \n",
    "def gaus(x, amplitude, mean, sigma):\n",
    "    return amplitude*np.exp(-np.power(x-mean,2.)/(2*np.power(sigma,2.0)))"
   ]
  },
  {
   "cell_type": "code",
   "execution_count": null,
   "metadata": {},
   "outputs": [],
   "source": [
    "def plot_data(data,bin_num=100,low=0.,high=20.,a1=1000.,m1=5.,s1=0.9):\n",
    "    # TODO: \n",
    "    # 1) Take in the vector of data and make a histogram\n",
    "    # 2) Draw it\n",
    "    # 3) Fit it with a gaussian\n",
    "    plt.hist(data,bins=bin_num)\n",
    "    xmin, xmax = plt.xlim()\n",
    "    y=ybins(data,bin_num,low,high)\n",
    "    x=xbins(bin_num,low,high)\n",
    "    #print(bin_center)\n",
    "    #plt.scatter(xp,yp,color='r',label=\"data\")\n",
    "    ini_pars=[a1,m1,s1]\n",
    "    par, par_cov = op.curve_fit(gaus,x,y,p0=ini_pars,maxfev=5000)\n",
    "    x_cont = np.linspace(xmin,xmax,1000)\n",
    "    plt.plot(x_cont,gaus(x_cont,par[0],par[1],par[2]),label=\"Gaus Fit\",color='g')\n",
    "    plt.show()\n",
    "    return\n",
    "\n",
    "def print_data(data):\n",
    "    # Prints the first 10 values\n",
    "    # Change it to this to get the full list of data\n",
    "    # for d in data:\n",
    "    for d in data[0:10]:\n",
    "        print(d)\n",
    "    #They Don't necessarily have to print out everything, but at least demonstrate they understand how they would"
   ]
  },
  {
   "cell_type": "code",
   "execution_count": null,
   "metadata": {},
   "outputs": [],
   "source": [
    "plot_data(input_data)\n",
    "print_data(input_data)"
   ]
  },
  {
   "cell_type": "code",
   "execution_count": null,
   "metadata": {},
   "outputs": [],
   "source": []
  }
 ],
 "metadata": {
  "kernelspec": {
   "display_name": "Python 3",
   "language": "python",
   "name": "python3"
  },
  "language_info": {
   "codemirror_mode": {
    "name": "ipython",
    "version": 3
   },
   "file_extension": ".py",
   "mimetype": "text/x-python",
   "name": "python",
   "nbconvert_exporter": "python",
   "pygments_lexer": "ipython3",
   "version": "3.8.6"
  }
 },
 "nbformat": 4,
 "nbformat_minor": 4
}
