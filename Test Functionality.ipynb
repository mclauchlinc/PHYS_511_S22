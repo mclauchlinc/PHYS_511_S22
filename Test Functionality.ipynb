{
 "cells": [
  {
   "cell_type": "code",
   "execution_count": null,
   "metadata": {},
   "outputs": [],
   "source": [
    "# Click on the boxes in order from the top, and <Shift>+<Enter>\n",
    "# Or click the <RUN> button on the top for all cells starting at the top and moving down \n",
    "# Including this box\n",
    "import numpy as np\n",
    "import matplotlib.pyplot as plt\n",
    "from scipy import stats"
   ]
  },
  {
   "cell_type": "code",
   "execution_count": null,
   "metadata": {},
   "outputs": [],
   "source": [
    "def gaussian(num = 100000):\n",
    "    mean = 5.0\n",
    "    sigma = 1.0\n",
    "    thrown = np.random.normal(loc=mean, scale=sigma, size=num)\n",
    "    plt.hist(thrown, bins=100, density=True)\n",
    "    mu, std = stats.norm.fit(thrown)\n",
    "    xmin, xmax = plt.xlim()\n",
    "    x = np.linspace(xmin, xmax, 100)\n",
    "    y = stats.norm.pdf(x, mu, std)\n",
    "    plt.plot(x, y, linewidth=2,\n",
    "         label=\"Fit results:\\n$\\mu$ = %.2f\\n$\\sigma$ = %.2f\" % (mu, std))\n",
    "    plt.title(\"I am a title\")\n",
    "    plt.xlabel(\"x axis\")\n",
    "    plt.ylabel(\"why axis\")\n",
    "    plt.legend()\n",
    "    plt.show()"
   ]
  },
  {
   "cell_type": "code",
   "execution_count": null,
   "metadata": {},
   "outputs": [],
   "source": [
    "gaussian()"
   ]
  },
  {
   "cell_type": "code",
   "execution_count": null,
   "metadata": {},
   "outputs": [],
   "source": [
    "# Did you get a histogram with a Gaussian and a fit on it? \n",
    "# If so, things should be working well and you're all set for lab"
   ]
  }
 ],
 "metadata": {
  "kernelspec": {
   "display_name": "Python 3",
   "language": "python",
   "name": "python3"
  },
  "language_info": {
   "codemirror_mode": {
    "name": "ipython",
    "version": 3
   },
   "file_extension": ".py",
   "mimetype": "text/x-python",
   "name": "python",
   "nbconvert_exporter": "python",
   "pygments_lexer": "ipython3",
   "version": "3.8.6"
  }
 },
 "nbformat": 4,
 "nbformat_minor": 4
}
