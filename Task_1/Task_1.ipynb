{
 "cells": [
  {
   "cell_type": "code",
   "execution_count": null,
   "metadata": {},
   "outputs": [],
   "source": [
    "#Before we start, we have to import libraries of functions that we will need\n",
    "\n",
    "#access to the numpy library for vectors, arrays, and other math\n",
    "import numpy as np\n",
    "#access to the matplotlib's plotting features\n",
    "import matplotlib.pyplot as plt\n",
    "#access to scipy's statistics library \n",
    "from scipy import stats\n",
    "#Optimize library for fitting functions\n",
    "from scipy import optimize as op"
   ]
  },
  {
   "cell_type": "code",
   "execution_count": null,
   "metadata": {},
   "outputs": [],
   "source": [
    "#Defining our function\n",
    "def gaussian(num = 100000):\n",
    "    # Variables for the gGaussian\n",
    "    mean = 5.0\n",
    "    sigma = 1.0\n",
    "\n",
    "    # Throw a normal(gaussian) distribution using numpy\n",
    "    thrown = np.random.normal(loc=mean, scale=sigma, size=num)\n",
    "    # Plot the randome data\n",
    "    plt.hist(thrown, bins=100, density=True)\n",
    "\n",
    "    # Fit a normal distribution to the data using scipy stats\n",
    "    mu, std = stats.norm.fit(thrown)\n",
    "    print(\"mu:\",mu,\" sig:\",std)\n",
    "    # Plot the fit\n",
    "    # Get the min and max from the histogram\n",
    "    xmin, xmax = plt.xlim()\n",
    "    # Make a set of xs to plot the distribution\n",
    "    x = np.linspace(xmin, xmax, 100)\n",
    "    # Get the y values in the x range\n",
    "    y = stats.norm.pdf(x, mu, std)\n",
    "    \n",
    "    # Plot the line and set the legend and show the plots\n",
    "    plt.plot(x, y, linewidth=2,\n",
    "         label=\"Fit results:\\n$\\mu$ = %.2f\\n$\\sigma$ = %.2f\" % (mu, std))\n",
    "    #Add Some titles for the plot and axes\n",
    "    plt.title(\"I am a title\")\n",
    "    plt.xlabel(\"x axis\")\n",
    "    plt.ylabel(\"why axis\")\n",
    "    plt.legend()\n",
    "    plt.show()"
   ]
  },
  {
   "cell_type": "code",
   "execution_count": null,
   "metadata": {},
   "outputs": [],
   "source": [
    "# You can also make your own functions rather than ones from distinct libraries\n",
    "# outputs a gaussian \n",
    "def gaus(x, amplitude, mean, sigma):\n",
    "    return amplitude*np.exp(-np.power(x-mean,2.)/(2*np.power(sigma,2.0)))\n",
    "# Converts bin edges to bin centers\n",
    "def edges_to_center(bin_edges):\n",
    "    output = np.zeros(len(bin_edges)-1)\n",
    "    for i in range(len(bin_edges)-1):\n",
    "        output[i] = (bin_edges[i+1]+bin_edges[i])/2.\n",
    "    return output\n",
    "# New gaussian fitting program using scipy.optimize for fitting \n",
    "def gaussian2(num = 100000):\n",
    "    #Variables for the Gaussian\n",
    "    mean = 5.0\n",
    "    sigma = 1.0\n",
    "    num_bins = 100\n",
    "\n",
    "    # Throw a normal(gaussian) distribution using numpy\n",
    "    thrown = np.random.normal(loc=mean, scale=sigma, size=num)\n",
    "    # Plot the randome data\n",
    "    plt.hist(thrown, bins=num_bins, density=False)\n",
    "    # Extract the values and bin edges\n",
    "    hist,bin_edges = np.histogram(thrown, bins=num_bins)\n",
    "    # Extract fit parameters using scipy.optimize\n",
    "    # Take a guess at the parameters for the fitting function\n",
    "    guess=[20000,4.5,1.3]\n",
    "    # Use curve_fit to extract fit parameters for the fit function from a set of x and y data with an initial guess\n",
    "    param, param_cov = op.curve_fit(gaus,edges_to_center(bin_edges),hist,p0=guess,maxfev=5000)\n",
    "    print(\"curve_fit parameters: \",param)\n",
    "    # Make a set of xs to plot the distribution\n",
    "    x = np.linspace(bin_edges[0], bin_edges[len(bin_edges)-1], 100)\n",
    "    # Get the y values in the x range\n",
    "    y = gaus(x,*param)\n",
    "    # Plot the line and set the legend and show the plots\n",
    "    plt.plot(x, y, linewidth=2,label=\"Fit results:\\n$\\mu$ = %.2f\\n$\\sigma$ = %.2f\" % (param[1], param[2]))\n",
    "    # Add Some titles for the plot and axes\n",
    "    plt.title(\"I am also a title\")\n",
    "    plt.xlabel(\"x axis\")\n",
    "    plt.ylabel(\"why axis\")\n",
    "    plt.legend()\n",
    "    plt.show()"
   ]
  },
  {
   "cell_type": "code",
   "execution_count": null,
   "metadata": {},
   "outputs": [],
   "source": [
    "gaussian()\n",
    "gaussian2()"
   ]
  },
  {
   "cell_type": "code",
   "execution_count": null,
   "metadata": {},
   "outputs": [],
   "source": []
  }
 ],
 "metadata": {
  "kernelspec": {
   "display_name": "Python 3",
   "language": "python",
   "name": "python3"
  },
  "language_info": {
   "codemirror_mode": {
    "name": "ipython",
    "version": 3
   },
   "file_extension": ".py",
   "mimetype": "text/x-python",
   "name": "python",
   "nbconvert_exporter": "python",
   "pygments_lexer": "ipython3",
   "version": "3.8.6"
  }
 },
 "nbformat": 4,
 "nbformat_minor": 4
}
